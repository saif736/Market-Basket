{
 "cells": [
  {
   "cell_type": "markdown",
   "metadata": {},
   "source": [
    "<center>\n",
    "<img src=\"https://miro.medium.com/max/2880/1*DHfQvlMVBaJCHpYmj1kmCw.png\" width=800>\n",
    "</center>\n",
    "\n",
    "\n",
    "# 1. Introduction\n",
    "\n",
    "<div style=\"color:white;display:fill;\n",
    "            background-color:#e38e05;font-size:150%;\n",
    "            font-family:Nexa;letter-spacing:0.5px\">\n",
    "    <p style=\"padding: 4px;color:white;\"><b>1.1 Market Basket Analysis Purpose</b></p>\n",
    "</div>\n",
    "\n",
    "To increase sell by\n",
    "\n",
    "> * Finding the best ways to create promotions or apply discounts on particular items\n",
    "> * Finding the pattern occuring to sales to apply promotions more accurately\n",
    "\n",
    "\n",
    "**Dataset Description [Dataset](http://www.kaggle.com/datasets/farjanakabirsamanta/analytics-case-studyecommerce)**\n",
    "\n",
    " Total 5 columns\n",
    "> *  `Product` : Product Specification\n",
    "> *  `Product Category` : The category to which product belongs\n",
    "> *  `Transaction ID`: Purchase Record ID for particular product\n",
    "> *  `Unique Purchases` : Unique purchased Amount for particular product\n",
    "> *  `Product Revenue` : Total revenue for particular product\n",
    "\n",
    "<div style=\"color:white;display:fill;\n",
    "            background-color:#e38e05;font-size:150%;\n",
    "            font-family:Nexa;letter-spacing:0.5px\">\n",
    "    <p style=\"padding: 4px;color:white;\"><b>1.2 What is Market Basket Analysis?</b></p>\n",
    "</div>\n",
    "\n",
    "> * It is an accidental **transaction pattern** that **purchasing some products** will **affect** the **purchasing of other products**\n",
    "> * It is used to **predict** what **products** that **customer** interested in\n",
    "> * It helps sellers or reatilers to find a **patterns** that shows which items are **frequently purchased together** so that he/she could apply **a discounts** into a **particular items** **more accurately**."
   ]
  },
  {
   "cell_type": "markdown",
   "metadata": {},
   "source": [
    "<hr>\n",
    "\n",
    "<div style=\"color:white;display:fill;\n",
    "            background-color:#e38e05;font-size:150%;\n",
    "            font-family:Nexa;letter-spacing:0.5px\">\n",
    "    <p style=\"padding: 4px;color:white;\"><b>1.3 Libraries</b></p>\n",
    "</div>"
   ]
  },
  {
   "cell_type": "code",
   "execution_count": 1,
   "metadata": {
    "execution": {
     "iopub.execute_input": "2022-10-07T16:29:44.924377Z",
     "iopub.status.busy": "2022-10-07T16:29:44.923920Z",
     "iopub.status.idle": "2022-10-07T16:29:45.641884Z",
     "shell.execute_reply": "2022-10-07T16:29:45.640769Z",
     "shell.execute_reply.started": "2022-10-07T16:29:44.924288Z"
    }
   },
   "outputs": [],
   "source": [
    "# Import Libraries for association rule mininig to find frequent patterns\n",
    "import pandas as pd\n",
    "import numpy as np\n",
    "from mlxtend.frequent_patterns import apriori, association_rules\n",
    "\n",
    "# Import Libraries for Visualization\n",
    "import matplotlib.pyplot as plt\n",
    "import seaborn as sns\n",
    "import re\n",
    "import networkx as nx"
   ]
  },
  {
   "cell_type": "markdown",
   "metadata": {},
   "source": [
    "# 2. Data\n",
    "\n",
    "<div style=\"color:white;display:fill;\n",
    "            background-color:#e38e05;font-size:150%;\n",
    "            font-family:Nexa;letter-spacing:0.5px\">\n",
    "    <p style=\"padding: 4px;color:white;\"><b>2.1 Data frames</b></p>\n",
    "</div>\n"
   ]
  },
  {
   "cell_type": "code",
   "execution_count": 2,
   "metadata": {
    "execution": {
     "iopub.execute_input": "2022-10-07T16:29:45.644377Z",
     "iopub.status.busy": "2022-10-07T16:29:45.644016Z",
     "iopub.status.idle": "2022-10-07T16:29:45.863684Z",
     "shell.execute_reply": "2022-10-07T16:29:45.862816Z",
     "shell.execute_reply.started": "2022-10-07T16:29:45.644344Z"
    }
   },
   "outputs": [
    {
     "data": {
      "text/html": [
       "<div>\n",
       "<style scoped>\n",
       "    .dataframe tbody tr th:only-of-type {\n",
       "        vertical-align: middle;\n",
       "    }\n",
       "\n",
       "    .dataframe tbody tr th {\n",
       "        vertical-align: top;\n",
       "    }\n",
       "\n",
       "    .dataframe thead th {\n",
       "        text-align: right;\n",
       "    }\n",
       "</style>\n",
       "<table border=\"1\" class=\"dataframe\">\n",
       "  <thead>\n",
       "    <tr style=\"text-align: right;\">\n",
       "      <th></th>\n",
       "      <th>Product</th>\n",
       "      <th>Product Category (Enhanced Ecommerce)</th>\n",
       "      <th>Transaction ID</th>\n",
       "      <th>Unique Purchases</th>\n",
       "      <th>Product Revenue</th>\n",
       "    </tr>\n",
       "  </thead>\n",
       "  <tbody>\n",
       "    <tr>\n",
       "      <th>0</th>\n",
       "      <td>3.7V 3400mah LIION 12.6WH</td>\n",
       "      <td>Battery/Consumer Rechargeable</td>\n",
       "      <td>EC0043605902</td>\n",
       "      <td>47</td>\n",
       "      <td>$1,597.53</td>\n",
       "    </tr>\n",
       "    <tr>\n",
       "      <th>1</th>\n",
       "      <td>3V PHOTO LITHIUM</td>\n",
       "      <td>Battery/Primary Other</td>\n",
       "      <td>EC0043507670</td>\n",
       "      <td>47</td>\n",
       "      <td>$1,246.44</td>\n",
       "    </tr>\n",
       "    <tr>\n",
       "      <th>2</th>\n",
       "      <td>12V 11.2AH 225CCA AGM 12/0</td>\n",
       "      <td>Battery/Powersports</td>\n",
       "      <td>EC0043504182</td>\n",
       "      <td>41</td>\n",
       "      <td>$4,714.59</td>\n",
       "    </tr>\n",
       "    <tr>\n",
       "      <th>3</th>\n",
       "      <td>12V 12AH 165CCA FLOODED 6/0</td>\n",
       "      <td>Battery/Powersports</td>\n",
       "      <td>EC0043503186</td>\n",
       "      <td>39</td>\n",
       "      <td>$2,456.61</td>\n",
       "    </tr>\n",
       "    <tr>\n",
       "      <th>4</th>\n",
       "      <td>12V 12AH 210CCA AGM 12/0</td>\n",
       "      <td>Battery/Powersports</td>\n",
       "      <td>EC0043406547</td>\n",
       "      <td>34</td>\n",
       "      <td>$3,570.00</td>\n",
       "    </tr>\n",
       "  </tbody>\n",
       "</table>\n",
       "</div>"
      ],
      "text/plain": [
       "                       Product Product Category (Enhanced Ecommerce)  \\\n",
       "0    3.7V 3400mah LIION 12.6WH         Battery/Consumer Rechargeable   \n",
       "1             3V PHOTO LITHIUM                 Battery/Primary Other   \n",
       "2   12V 11.2AH 225CCA AGM 12/0                   Battery/Powersports   \n",
       "3  12V 12AH 165CCA FLOODED 6/0                   Battery/Powersports   \n",
       "4     12V 12AH 210CCA AGM 12/0                   Battery/Powersports   \n",
       "\n",
       "  Transaction ID  Unique Purchases Product Revenue  \n",
       "0   EC0043605902                47      $1,597.53   \n",
       "1   EC0043507670                47      $1,246.44   \n",
       "2   EC0043504182                41      $4,714.59   \n",
       "3   EC0043503186                39      $2,456.61   \n",
       "4   EC0043406547                34      $3,570.00   "
      ]
     },
     "execution_count": 2,
     "metadata": {},
     "output_type": "execute_result"
    }
   ],
   "source": [
    "# Read csv file, file is encoded in 'latin'\n",
    "df = pd.read_csv('dataset.csv', encoding='latin')\n",
    "\n",
    "# show first few entries\n",
    "df.head()"
   ]
  },
  {
   "cell_type": "code",
   "execution_count": 3,
   "metadata": {
    "execution": {
     "iopub.execute_input": "2022-10-07T16:29:45.865581Z",
     "iopub.status.busy": "2022-10-07T16:29:45.865239Z",
     "iopub.status.idle": "2022-10-07T16:29:45.887320Z",
     "shell.execute_reply": "2022-10-07T16:29:45.886237Z",
     "shell.execute_reply.started": "2022-10-07T16:29:45.865533Z"
    }
   },
   "outputs": [
    {
     "data": {
      "text/html": [
       "<div>\n",
       "<style scoped>\n",
       "    .dataframe tbody tr th:only-of-type {\n",
       "        vertical-align: middle;\n",
       "    }\n",
       "\n",
       "    .dataframe tbody tr th {\n",
       "        vertical-align: top;\n",
       "    }\n",
       "\n",
       "    .dataframe thead th {\n",
       "        text-align: right;\n",
       "    }\n",
       "</style>\n",
       "<table border=\"1\" class=\"dataframe\">\n",
       "  <thead>\n",
       "    <tr style=\"text-align: right;\">\n",
       "      <th></th>\n",
       "      <th>Product</th>\n",
       "      <th>Product Category (Enhanced Ecommerce)</th>\n",
       "      <th>Transaction ID</th>\n",
       "      <th>Unique Purchases</th>\n",
       "      <th>Product Revenue</th>\n",
       "    </tr>\n",
       "  </thead>\n",
       "  <tbody>\n",
       "    <tr>\n",
       "      <th>16898</th>\n",
       "      <td>12.8V LIFEPO4</td>\n",
       "      <td>Battery/Powersports</td>\n",
       "      <td>EC0043201783</td>\n",
       "      <td>1</td>\n",
       "      <td>$164.99</td>\n",
       "    </tr>\n",
       "    <tr>\n",
       "      <th>30263</th>\n",
       "      <td>12V 24M MARINE 12</td>\n",
       "      <td>Battery/Marine/RV</td>\n",
       "      <td>EC0043203131</td>\n",
       "      <td>1</td>\n",
       "      <td>$109.99</td>\n",
       "    </tr>\n",
       "    <tr>\n",
       "      <th>9512</th>\n",
       "      <td>AGM 12V 5AH .187 FASTON</td>\n",
       "      <td>Battery/Sealed Lead Acid</td>\n",
       "      <td>EC0043907531</td>\n",
       "      <td>2</td>\n",
       "      <td>$77.98</td>\n",
       "    </tr>\n",
       "    <tr>\n",
       "      <th>46337</th>\n",
       "      <td>12V 6.5AH LEAD</td>\n",
       "      <td>Battery/Sealed Lead Acid</td>\n",
       "      <td>EC0043006382</td>\n",
       "      <td>1</td>\n",
       "      <td>$40.99</td>\n",
       "    </tr>\n",
       "    <tr>\n",
       "      <th>74562</th>\n",
       "      <td>9V ALKAL</td>\n",
       "      <td>Battery/Primary Common</td>\n",
       "      <td>EC0043702910</td>\n",
       "      <td>1</td>\n",
       "      <td>$180.00</td>\n",
       "    </tr>\n",
       "    <tr>\n",
       "      <th>90645</th>\n",
       "      <td>OPTIMA 720CCA</td>\n",
       "      <td>Battery/Auto/Light Truck</td>\n",
       "      <td>EC0043107595</td>\n",
       "      <td>1</td>\n",
       "      <td>$239.99</td>\n",
       "    </tr>\n",
       "    <tr>\n",
       "      <th>64138</th>\n",
       "      <td>3.7V 2700MAH LIION 9.99WH</td>\n",
       "      <td>Battery/Cellular</td>\n",
       "      <td>EC0043606535</td>\n",
       "      <td>1</td>\n",
       "      <td>$39.99</td>\n",
       "    </tr>\n",
       "    <tr>\n",
       "      <th>6243</th>\n",
       "      <td>12V 6.5AH 85CCA AGM 12/0</td>\n",
       "      <td>Battery/Powersports</td>\n",
       "      <td>EC0043000972</td>\n",
       "      <td>2</td>\n",
       "      <td>$185.78</td>\n",
       "    </tr>\n",
       "    <tr>\n",
       "      <th>89348</th>\n",
       "      <td>GRP 31 AGM DUAL X2 MARINE</td>\n",
       "      <td>Battery/Marine/RV</td>\n",
       "      <td>EC0043807331</td>\n",
       "      <td>1</td>\n",
       "      <td>$459.99</td>\n",
       "    </tr>\n",
       "    <tr>\n",
       "      <th>87982</th>\n",
       "      <td>F13T5/CW</td>\n",
       "      <td>Bulb/Fluorescent</td>\n",
       "      <td>EC0044000520</td>\n",
       "      <td>1</td>\n",
       "      <td>$29.96</td>\n",
       "    </tr>\n",
       "  </tbody>\n",
       "</table>\n",
       "</div>"
      ],
      "text/plain": [
       "                         Product Product Category (Enhanced Ecommerce)  \\\n",
       "16898              12.8V LIFEPO4                   Battery/Powersports   \n",
       "30263          12V 24M MARINE 12                     Battery/Marine/RV   \n",
       "9512     AGM 12V 5AH .187 FASTON              Battery/Sealed Lead Acid   \n",
       "46337             12V 6.5AH LEAD              Battery/Sealed Lead Acid   \n",
       "74562                   9V ALKAL                Battery/Primary Common   \n",
       "90645              OPTIMA 720CCA              Battery/Auto/Light Truck   \n",
       "64138  3.7V 2700MAH LIION 9.99WH                      Battery/Cellular   \n",
       "6243    12V 6.5AH 85CCA AGM 12/0                   Battery/Powersports   \n",
       "89348  GRP 31 AGM DUAL X2 MARINE                     Battery/Marine/RV   \n",
       "87982                   F13T5/CW                      Bulb/Fluorescent   \n",
       "\n",
       "      Transaction ID  Unique Purchases Product Revenue  \n",
       "16898   EC0043201783                 1        $164.99   \n",
       "30263   EC0043203131                 1        $109.99   \n",
       "9512    EC0043907531                 2         $77.98   \n",
       "46337   EC0043006382                 1         $40.99   \n",
       "74562   EC0043702910                 1        $180.00   \n",
       "90645   EC0043107595                 1        $239.99   \n",
       "64138   EC0043606535                 1         $39.99   \n",
       "6243    EC0043000972                 2        $185.78   \n",
       "89348   EC0043807331                 1        $459.99   \n",
       "87982   EC0044000520                 1         $29.96   "
      ]
     },
     "execution_count": 3,
     "metadata": {},
     "output_type": "execute_result"
    }
   ],
   "source": [
    "# show random 10 entries\n",
    "df.sample(10)"
   ]
  },
  {
   "cell_type": "code",
   "execution_count": 4,
   "metadata": {
    "execution": {
     "iopub.execute_input": "2022-10-07T16:29:45.890752Z",
     "iopub.status.busy": "2022-10-07T16:29:45.890314Z",
     "iopub.status.idle": "2022-10-07T16:29:45.930540Z",
     "shell.execute_reply": "2022-10-07T16:29:45.929281Z",
     "shell.execute_reply.started": "2022-10-07T16:29:45.890710Z"
    }
   },
   "outputs": [
    {
     "name": "stdout",
     "output_type": "stream",
     "text": [
      "<class 'pandas.core.frame.DataFrame'>\n",
      "RangeIndex: 92250 entries, 0 to 92249\n",
      "Data columns (total 5 columns):\n",
      " #   Column                                 Non-Null Count  Dtype \n",
      "---  ------                                 --------------  ----- \n",
      " 0   Product                                92250 non-null  object\n",
      " 1   Product Category (Enhanced Ecommerce)  92250 non-null  object\n",
      " 2   Transaction ID                         92250 non-null  object\n",
      " 3   Unique Purchases                       92250 non-null  int64 \n",
      " 4   Product Revenue                        92250 non-null  object\n",
      "dtypes: int64(1), object(4)\n",
      "memory usage: 3.5+ MB\n"
     ]
    }
   ],
   "source": [
    "# Short Info of data\n",
    "df.info()"
   ]
  },
  {
   "cell_type": "code",
   "execution_count": 5,
   "metadata": {
    "execution": {
     "iopub.execute_input": "2022-10-07T16:29:45.932844Z",
     "iopub.status.busy": "2022-10-07T16:29:45.932280Z",
     "iopub.status.idle": "2022-10-07T16:29:45.955640Z",
     "shell.execute_reply": "2022-10-07T16:29:45.954610Z",
     "shell.execute_reply.started": "2022-10-07T16:29:45.932806Z"
    }
   },
   "outputs": [
    {
     "data": {
      "text/html": [
       "<div>\n",
       "<style scoped>\n",
       "    .dataframe tbody tr th:only-of-type {\n",
       "        vertical-align: middle;\n",
       "    }\n",
       "\n",
       "    .dataframe tbody tr th {\n",
       "        vertical-align: top;\n",
       "    }\n",
       "\n",
       "    .dataframe thead th {\n",
       "        text-align: right;\n",
       "    }\n",
       "</style>\n",
       "<table border=\"1\" class=\"dataframe\">\n",
       "  <thead>\n",
       "    <tr style=\"text-align: right;\">\n",
       "      <th></th>\n",
       "      <th>Unique Purchases</th>\n",
       "    </tr>\n",
       "  </thead>\n",
       "  <tbody>\n",
       "    <tr>\n",
       "      <th>count</th>\n",
       "      <td>92250.000000</td>\n",
       "    </tr>\n",
       "    <tr>\n",
       "      <th>mean</th>\n",
       "      <td>1.164564</td>\n",
       "    </tr>\n",
       "    <tr>\n",
       "      <th>std</th>\n",
       "      <td>0.676474</td>\n",
       "    </tr>\n",
       "    <tr>\n",
       "      <th>min</th>\n",
       "      <td>1.000000</td>\n",
       "    </tr>\n",
       "    <tr>\n",
       "      <th>25%</th>\n",
       "      <td>1.000000</td>\n",
       "    </tr>\n",
       "    <tr>\n",
       "      <th>50%</th>\n",
       "      <td>1.000000</td>\n",
       "    </tr>\n",
       "    <tr>\n",
       "      <th>75%</th>\n",
       "      <td>1.000000</td>\n",
       "    </tr>\n",
       "    <tr>\n",
       "      <th>max</th>\n",
       "      <td>47.000000</td>\n",
       "    </tr>\n",
       "  </tbody>\n",
       "</table>\n",
       "</div>"
      ],
      "text/plain": [
       "       Unique Purchases\n",
       "count      92250.000000\n",
       "mean           1.164564\n",
       "std            0.676474\n",
       "min            1.000000\n",
       "25%            1.000000\n",
       "50%            1.000000\n",
       "75%            1.000000\n",
       "max           47.000000"
      ]
     },
     "execution_count": 5,
     "metadata": {},
     "output_type": "execute_result"
    }
   ],
   "source": [
    "# Statistical analysis of data\n",
    "df.describe()"
   ]
  },
  {
   "cell_type": "markdown",
   "metadata": {},
   "source": [
    "# 3. EDA\n",
    "<div style=\"color:white;display:fill;\n",
    "            background-color:#e38e05;font-size:150%;\n",
    "            font-family:Nexa;letter-spacing:0.5px\">\n",
    "    <p style=\"padding: 4px;color:white;\"><b>3.1 Data Cleaning</b></p>\n",
    "</div>"
   ]
  },
  {
   "cell_type": "code",
   "execution_count": 6,
   "metadata": {
    "execution": {
     "iopub.execute_input": "2022-10-07T16:29:45.959898Z",
     "iopub.status.busy": "2022-10-07T16:29:45.959534Z",
     "iopub.status.idle": "2022-10-07T16:29:45.991915Z",
     "shell.execute_reply": "2022-10-07T16:29:45.990970Z",
     "shell.execute_reply.started": "2022-10-07T16:29:45.959868Z"
    }
   },
   "outputs": [],
   "source": [
    "# Dropping all null values\n",
    "df = df.dropna()"
   ]
  },
  {
   "cell_type": "markdown",
   "metadata": {},
   "source": [
    "**Taking the positive quantity values**"
   ]
  },
  {
   "cell_type": "code",
   "execution_count": 7,
   "metadata": {
    "execution": {
     "iopub.execute_input": "2022-10-07T16:29:45.993674Z",
     "iopub.status.busy": "2022-10-07T16:29:45.993138Z",
     "iopub.status.idle": "2022-10-07T16:29:46.033354Z",
     "shell.execute_reply": "2022-10-07T16:29:46.032271Z",
     "shell.execute_reply.started": "2022-10-07T16:29:45.993642Z"
    }
   },
   "outputs": [
    {
     "name": "stdout",
     "output_type": "stream",
     "text": [
      "<class 'pandas.core.frame.DataFrame'>\n",
      "RangeIndex: 92250 entries, 0 to 92249\n",
      "Data columns (total 5 columns):\n",
      " #   Column                                 Non-Null Count  Dtype \n",
      "---  ------                                 --------------  ----- \n",
      " 0   Product                                92250 non-null  object\n",
      " 1   Product Category (Enhanced Ecommerce)  92250 non-null  object\n",
      " 2   Transaction ID                         92250 non-null  object\n",
      " 3   Unique Purchases                       92250 non-null  int64 \n",
      " 4   Product Revenue                        92250 non-null  object\n",
      "dtypes: int64(1), object(4)\n",
      "memory usage: 3.5+ MB\n"
     ]
    }
   ],
   "source": [
    "df = df[df['Unique Purchases']>=0]\n",
    "df.info()"
   ]
  },
  {
   "cell_type": "markdown",
   "metadata": {},
   "source": [
    "**Dropping row where Transaction Id is missing**"
   ]
  },
  {
   "cell_type": "code",
   "execution_count": 8,
   "metadata": {
    "execution": {
     "iopub.execute_input": "2022-10-07T16:29:46.034953Z",
     "iopub.status.busy": "2022-10-07T16:29:46.034647Z",
     "iopub.status.idle": "2022-10-07T16:29:46.084086Z",
     "shell.execute_reply": "2022-10-07T16:29:46.082798Z",
     "shell.execute_reply.started": "2022-10-07T16:29:46.034925Z"
    }
   },
   "outputs": [
    {
     "name": "stdout",
     "output_type": "stream",
     "text": [
      "<class 'pandas.core.frame.DataFrame'>\n",
      "Index: 92249 entries, 0 to 92249\n",
      "Data columns (total 5 columns):\n",
      " #   Column                                 Non-Null Count  Dtype \n",
      "---  ------                                 --------------  ----- \n",
      " 0   Product                                92249 non-null  object\n",
      " 1   Product Category (Enhanced Ecommerce)  92249 non-null  object\n",
      " 2   Transaction ID                         92249 non-null  object\n",
      " 3   Unique Purchases                       92249 non-null  int64 \n",
      " 4   Product Revenue                        92249 non-null  object\n",
      "dtypes: int64(1), object(4)\n",
      "memory usage: 4.2+ MB\n"
     ]
    }
   ],
   "source": [
    "df.drop(df[df['Transaction ID'] == '<transaction id>'].index, inplace=True)\n",
    "df.info()"
   ]
  },
  {
   "cell_type": "markdown",
   "metadata": {},
   "source": [
    "<div style=\"color:white;display:fill;\n",
    "            background-color:#e38e05;font-size:150%;\n",
    "            font-family:Nexa;letter-spacing:0.5px\">\n",
    "    <p style=\"padding: 4px;color:white;\"><b>3.2 Top 15 Products</b></p>\n",
    "</div>"
   ]
  },
  {
   "cell_type": "code",
   "execution_count": 9,
   "metadata": {
    "execution": {
     "iopub.execute_input": "2022-10-07T16:29:46.086085Z",
     "iopub.status.busy": "2022-10-07T16:29:46.085425Z",
     "iopub.status.idle": "2022-10-07T16:29:46.100251Z",
     "shell.execute_reply": "2022-10-07T16:29:46.099188Z",
     "shell.execute_reply.started": "2022-10-07T16:29:46.086048Z"
    }
   },
   "outputs": [
    {
     "data": {
      "text/plain": [
       "Product\n",
       "12V U1 L&amp;G 6                  2425\n",
       "6V GC2 ULTRA GOLF 12              1684\n",
       "AGM 12V 7AH .187 FASTON           1642\n",
       "12V 18AH 310CCA AGM 12/0          1204\n",
       "12V 31DT DURACELL ULTRA AGM 30    1118\n",
       "AGM 12V 5AH .187 FASTON           1077\n",
       "DC 12V 35AH J TERM                1005\n",
       "12V 17.5AH 310 CCA                 996\n",
       "1.5V IND AA ALK BULK               979\n",
       "1.5V ALKAL                         977\n",
       "12V 30AH 400 CCA                   940\n",
       "12V U1R L&amp;G 6                  928\n",
       "1.55V SVROX                        925\n",
       "12V 27 MARINE DP 12                922\n",
       "12V 24 MARINE DP 12                900\n",
       "Name: count, dtype: int64"
      ]
     },
     "execution_count": 9,
     "metadata": {},
     "output_type": "execute_result"
    }
   ],
   "source": [
    "x = df['Product'].value_counts().sort_values(ascending=False)[:15]\n",
    "x"
   ]
  },
  {
   "cell_type": "code",
   "execution_count": 10,
   "metadata": {
    "execution": {
     "iopub.execute_input": "2022-10-07T16:29:46.104780Z",
     "iopub.status.busy": "2022-10-07T16:29:46.104241Z",
     "iopub.status.idle": "2022-10-07T16:29:46.459884Z",
     "shell.execute_reply": "2022-10-07T16:29:46.458945Z",
     "shell.execute_reply.started": "2022-10-07T16:29:46.104748Z"
    }
   },
   "outputs": [
    {
     "ename": "TypeError",
     "evalue": "barplot() takes from 0 to 1 positional arguments but 2 were given",
     "output_type": "error",
     "traceback": [
      "\u001b[1;31m---------------------------------------------------------------------------\u001b[0m",
      "\u001b[1;31mTypeError\u001b[0m                                 Traceback (most recent call last)",
      "Cell \u001b[1;32mIn[10], line 3\u001b[0m\n\u001b[0;32m      1\u001b[0m plt\u001b[38;5;241m.\u001b[39mfigure(figsize\u001b[38;5;241m=\u001b[39m(\u001b[38;5;241m12\u001b[39m,\u001b[38;5;241m5.5\u001b[39m))\n\u001b[0;32m      2\u001b[0m plt\u001b[38;5;241m.\u001b[39mxticks(rotation \u001b[38;5;241m=\u001b[39m \u001b[38;5;241m90\u001b[39m)\n\u001b[1;32m----> 3\u001b[0m sns\u001b[38;5;241m.\u001b[39mbarplot(x\u001b[38;5;241m.\u001b[39mindex,x\u001b[38;5;241m.\u001b[39mvalues)\n",
      "\u001b[1;31mTypeError\u001b[0m: barplot() takes from 0 to 1 positional arguments but 2 were given"
     ]
    },
    {
     "data": {
      "image/png": "[encoded data removed]",
      "text/plain": [
       "<Figure size 1200x550 with 1 Axes>"
      ]
     },
     "metadata": {},
     "output_type": "display_data"
    }
   ],
   "source": [
    "plt.figure(figsize=(12,5.5))\n",
    "plt.xticks(rotation = 90)\n",
    "sns.barplot(x.index,x.values)"
   ]
  },
  {
   "cell_type": "markdown",
   "metadata": {},
   "source": [
    "# 4. Data Preparing\n",
    "<div style=\"color:white;display:fill;\n",
    "            background-color:#e38e05;font-size:150%;\n",
    "            font-family:Nexa;letter-spacing:0.5px\">\n",
    "    <p style=\"padding: 4px;color:white;\"><b>4.1 Creating the basket</b></p>\n",
    "</div>\n",
    "\n",
    "> * Data is grouped by the transaction (`Transaction ID`) & the items (`Product`) and the values of `Quantity` of each item bought is shown.\n",
    "> * After, the value is `sum up` and `unstacked`.\n",
    "> * Lastly, the index of the data frame is changed to the `Transaction ID` so that we could see the `quantity of each item` bought per `InvoiceNo`.\n",
    "> * This dataframe is basically the `basket` that customers `carry on` to the cashier in shop.\n",
    "> * It shows us how much this customer / transaction (`Transaction ID`) bought a particular item. \n",
    "> * If the number is `0`, then this customer `didn’t buy` that particular item. If it shows another value (`12` for instances), it means that the customer has `bought` as many as `12 items`."
   ]
  },
  {
   "cell_type": "code",
   "execution_count": null,
   "metadata": {
    "execution": {
     "iopub.execute_input": "2022-10-07T16:29:46.461944Z",
     "iopub.status.busy": "2022-10-07T16:29:46.460971Z",
     "iopub.status.idle": "2022-10-07T16:29:52.818968Z",
     "shell.execute_reply": "2022-10-07T16:29:52.817784Z",
     "shell.execute_reply.started": "2022-10-07T16:29:46.461899Z"
    }
   },
   "outputs": [],
   "source": [
    "basket_plus = (df.groupby(['Transaction ID', 'Product'])['Unique Purchases']\n",
    "               .sum().unstack().reset_index().fillna(0).set_index('Transaction ID'))\n",
    "basket_plus"
   ]
  },
  {
   "cell_type": "markdown",
   "metadata": {},
   "source": [
    "**Dropping `not set` column because it represents Product are missing**"
   ]
  },
  {
   "cell_type": "code",
   "execution_count": null,
   "metadata": {
    "execution": {
     "iopub.execute_input": "2022-10-07T16:29:52.821138Z",
     "iopub.status.busy": "2022-10-07T16:29:52.820669Z",
     "iopub.status.idle": "2022-10-07T16:29:53.599789Z",
     "shell.execute_reply": "2022-10-07T16:29:53.598654Z",
     "shell.execute_reply.started": "2022-10-07T16:29:52.821094Z"
    }
   },
   "outputs": [],
   "source": [
    "basket_plus.drop('(not set)', axis=1, inplace=True)\n",
    "basket_plus"
   ]
  },
  {
   "cell_type": "markdown",
   "metadata": {},
   "source": [
    "<div style=\"color:white;display:fill;\n",
    "            background-color:#e38e05;font-size:150%;\n",
    "            font-family:Nexa;letter-spacing:0.5px\">\n",
    "    <p style=\"padding: 4px;color:white;\"><b>4.2 Encoding the Data</b></p>\n",
    "</div>\n",
    "\n",
    "> * In `market basket analysis`, the `number of each item` bought is `not` really `important`. \n",
    "> * The important is whether an item is `bought or not`\n",
    "> * The reason is to know, what is the `association of buying some items and buying some others`\n",
    "> * The `basket data` is `encoded` into a `binary data` that shows whether `an items is bought (1) or not (0)`\n",
    "> * **encode_units function** - encode the units i.e. If the `units` is `equal to or less than 0`, the function will change it into `0 (Not bought)`. If the units is `more than or equal to 1`, it will change the units into `1 (bought)`."
   ]
  },
  {
   "cell_type": "code",
   "execution_count": null,
   "metadata": {
    "execution": {
     "iopub.execute_input": "2022-10-07T16:29:53.601714Z",
     "iopub.status.busy": "2022-10-07T16:29:53.601248Z",
     "iopub.status.idle": "2022-10-07T16:31:20.972365Z",
     "shell.execute_reply": "2022-10-07T16:31:20.970832Z",
     "shell.execute_reply.started": "2022-10-07T16:29:53.601668Z"
    }
   },
   "outputs": [],
   "source": [
    "def encode_units(x):\n",
    "    if x <= 0:\n",
    "        return 0\n",
    "    if x >= 1:\n",
    "        return 1\n",
    "    \n",
    "basket_encode_plus = basket_plus.applymap(encode_units)\n",
    "basket_encode_plus"
   ]
  },
  {
   "cell_type": "markdown",
   "metadata": {},
   "source": [
    "<div style=\"color:white;display:fill;\n",
    "            background-color:#e38e05;font-size:150%;\n",
    "            font-family:Nexa;letter-spacing:0.5px\">\n",
    "    <p style=\"padding: 4px;color:white;\"><b>4.3 Filtering The Transaction(Bought More Than 1 Items Only)</b></p>\n",
    "</div>\n",
    "\n",
    "* In **market basket analysis**, purpose is to `uncover` the `association between 2 or more items` that is `bought` according to **historical data**.\n",
    "* So, it is `less useful` if `a transaction` only bought a `single item`"
   ]
  },
  {
   "cell_type": "code",
   "execution_count": null,
   "metadata": {
    "execution": {
     "iopub.execute_input": "2022-10-07T16:31:20.974953Z",
     "iopub.status.busy": "2022-10-07T16:31:20.974574Z",
     "iopub.status.idle": "2022-10-07T16:31:21.511266Z",
     "shell.execute_reply": "2022-10-07T16:31:21.509884Z",
     "shell.execute_reply.started": "2022-10-07T16:31:20.974917Z"
    }
   },
   "outputs": [],
   "source": [
    "basket_filter_plus = basket_encode_plus[(basket_encode_plus > 0).sum(axis=1) >= 2]\n",
    "basket_filter_plus"
   ]
  },
  {
   "cell_type": "markdown",
   "metadata": {},
   "source": [
    "* According to the result above, there are **6321** `transaction` that `bought more than 1 items`.\n",
    "* It means, **(6321 % 83013) * 100 = 7.61 %** of the basket data is a `transaction` that is `bought more than 1 item`."
   ]
  },
  {
   "cell_type": "markdown",
   "metadata": {},
   "source": [
    "# 5. Algorithm\n",
    "<div style=\"color:white;display:fill;\n",
    "            background-color:#e38e05;font-size:150%;\n",
    "            font-family:Nexa;letter-spacing:0.5px\">\n",
    "    <p style=\"padding: 4px;color:white;\"><b>5.1 Association Rules</b></p>\n",
    "</div>\n",
    "\n",
    "Assume there are 100 customers:\n",
    "\n",
    "> * 10 of them bought milk, 8 bought butter and 6 bought both of them.\n",
    "> * suppose, we are trying to find a pattern : **bought milk => bought butter**\n",
    "> * **support** = **P(Milk & Butter) = 6/100 = 0.06, means 0.06 * 100 = 6%** transactions that customer `bought milk and butter together`\n",
    "> * **confidence** = **support/P(Butter) = 0.06/0.08 = 0.75, means 0.75 * 100 = 75%** that customer who `bought milk, also bought butter`\n",
    "> * **lift** = **confidence/P(Milk) = 0.75/0.10 = 7.5**, indicates the `strength of the rule or pattern`, `lift > 1` means rule does `not occur by random pattern`"
   ]
  },
  {
   "cell_type": "markdown",
   "metadata": {},
   "source": [
    "<div style=\"color:white;display:fill;\n",
    "            background-color:#e38e05;font-size:150%;\n",
    "            font-family:Nexa;letter-spacing:0.5px\">\n",
    "    <p style=\"padding: 4px;color:white;\"><b>5.2 Apriori Algorithm</b></p>\n",
    "</div>\n",
    "\n",
    "* It is useful in `mining frequent itemsets` and `relevant association rules`. \n",
    "* Terminology:\n",
    "    1. **k-itemset**: a set of k items. e.g. {beer, diapers, juice} is a 3-itemset; {cheese} is a 1-itemset; {honey, ice-cream} is a 2-itemset\n",
    "\n",
    "    2. **Minimum support**: The Apriori algorithm starts a specified minimum level of support, and focuses on itemsets with at least this level.\n",
    "* It initially scans and determines the `frequency of individual items` (i.e. the item set size, k = 1).\n",
    "For example, if itemset `{A, B} is not frequent`, then we can `exclude all item set combinations` that `include {A, B}`"
   ]
  },
  {
   "cell_type": "markdown",
   "metadata": {},
   "source": [
    "<div style=\"color:white;display:fill;\n",
    "            background-color:#e38e05;font-size:150%;\n",
    "            font-family:Nexa;letter-spacing:0.5px\">\n",
    "    <p style=\"padding: 4px;color:white;\"><b>5.3 A full run through of Apriori</b></p>\n",
    "</div>\n",
    "\n",
    "<img src=\"https://miro.medium.com/max/1400/1*qdRuq1iyzncDbu8N1FFUNw.png\">\n",
    "\n",
    "<img src =\"https://miro.medium.com/max/720/1*9lcn59ELXyFTTw12WQGrAA.png\">\n",
    "\n",
    "**Step 6**: To make the set of three items we need one more rule (it’s termed a self-join). It simply means, from the Item pairs in the above table, we find two pairs with the same first Alphabet, so we get **OK** and **OE**, this gives **OKE**, **KE** and **KY**, this gives **KEY**\n",
    "\n",
    "<img src = \"https://miro.medium.com/max/640/1*9UHnbTh0ohwdcmBj8XmmTw.png\">"
   ]
  },
  {
   "cell_type": "markdown",
   "metadata": {},
   "source": [
    "<div style=\"color:white;display:fill;\n",
    "            background-color:#e38e05;font-size:150%;\n",
    "            font-family:Nexa;letter-spacing:0.5px\">\n",
    "    <p style=\"padding: 4px;color:white;\"><b>5.3 Applying the Apriori Algorithm</b></p>\n",
    "</div>\n"
   ]
  },
  {
   "cell_type": "code",
   "execution_count": null,
   "metadata": {
    "execution": {
     "iopub.execute_input": "2022-10-07T16:31:21.513749Z",
     "iopub.status.busy": "2022-10-07T16:31:21.513034Z",
     "iopub.status.idle": "2022-10-07T16:31:21.744119Z",
     "shell.execute_reply": "2022-10-07T16:31:21.743076Z",
     "shell.execute_reply.started": "2022-10-07T16:31:21.513704Z"
    }
   },
   "outputs": [],
   "source": [
    "frequent_itemsets_plus = apriori(basket_filter_plus, min_support=0.03, \n",
    "                                 use_colnames=True).sort_values('support', ascending=False).reset_index(drop=True)\n",
    "\n",
    "frequent_itemsets_plus['length'] = frequent_itemsets_plus['itemsets'].apply(lambda x: len(x))\n",
    "\n",
    "frequent_itemsets_plus"
   ]
  },
  {
   "cell_type": "markdown",
   "metadata": {},
   "source": [
    "# 6. Results\n",
    "<div style=\"color:white;display:fill;\n",
    "            background-color:#e38e05;font-size:150%;\n",
    "            font-family:Nexa;letter-spacing:0.5px\">\n",
    "    <p style=\"padding: 4px;color:white;\"><b>6.1 Frequently Bought Items</b></p>\n",
    "</div>\n",
    "\n",
    "* In **apriori algorithm**, we are able to `define` the `frequent data` defined by the given `support value`\n",
    "* `A frequently bought items` are defined as an items that is bought `as many as 3%` out of the whole transaction i.e. **support value 0.03**\n",
    "* Column length that contain the number of item that is bought\n",
    "* There are **13** transaction that is consider as a `frequently bought items`\n",
    "* **1.5V IND AA ALK BULK** is the most frequently bought items with the `support value` of **0.115013**, it means the item is bought = **6321 * .115013 = 727 times** out of the `whole transaction`."
   ]
  },
  {
   "cell_type": "markdown",
   "metadata": {},
   "source": [
    "**Frequently bought 1 item**"
   ]
  },
  {
   "cell_type": "code",
   "execution_count": null,
   "metadata": {
    "execution": {
     "iopub.execute_input": "2022-10-07T16:31:21.745863Z",
     "iopub.status.busy": "2022-10-07T16:31:21.745502Z",
     "iopub.status.idle": "2022-10-07T16:31:21.762905Z",
     "shell.execute_reply": "2022-10-07T16:31:21.761776Z",
     "shell.execute_reply.started": "2022-10-07T16:31:21.745832Z"
    }
   },
   "outputs": [],
   "source": [
    "frequent_itemsets_plus[ (frequent_itemsets_plus['length'] == 1)]"
   ]
  },
  {
   "cell_type": "markdown",
   "metadata": {},
   "source": [
    "**Frequently bought 2 items together**"
   ]
  },
  {
   "cell_type": "code",
   "execution_count": null,
   "metadata": {
    "execution": {
     "iopub.execute_input": "2022-10-07T16:31:21.764730Z",
     "iopub.status.busy": "2022-10-07T16:31:21.764369Z",
     "iopub.status.idle": "2022-10-07T16:31:21.777954Z",
     "shell.execute_reply": "2022-10-07T16:31:21.776789Z",
     "shell.execute_reply.started": "2022-10-07T16:31:21.764699Z"
    }
   },
   "outputs": [],
   "source": [
    "frequent_itemsets_plus[ (frequent_itemsets_plus['length'] == 2)]"
   ]
  },
  {
   "cell_type": "markdown",
   "metadata": {},
   "source": [
    "<div style=\"color:white;display:fill;\n",
    "            background-color:#e38e05;font-size:150%;\n",
    "            font-family:Nexa;letter-spacing:0.5px\">\n",
    "    <p style=\"padding: 4px;color:white;\"><b>6.2 Finding The Association Between Frequently Bought Items </b></p>\n",
    "</div>"
   ]
  },
  {
   "cell_type": "markdown",
   "metadata": {},
   "source": [
    "**From association rules, we could extract information and even discover knowledge about which items that is more effective to be sold together.**"
   ]
  },
  {
   "cell_type": "code",
   "execution_count": null,
   "metadata": {
    "execution": {
     "iopub.execute_input": "2022-10-07T16:31:21.780092Z",
     "iopub.status.busy": "2022-10-07T16:31:21.779415Z",
     "iopub.status.idle": "2022-10-07T16:31:21.809451Z",
     "shell.execute_reply": "2022-10-07T16:31:21.808334Z",
     "shell.execute_reply.started": "2022-10-07T16:31:21.780050Z"
    }
   },
   "outputs": [],
   "source": [
    "\n",
    "rules = association_rules(frequent_itemsets_plus, metric='lift', \n",
    "                  min_threshold=1).sort_values('lift', ascending=False).reset_index(drop=True)\n",
    "rules"
   ]
  },
  {
   "cell_type": "markdown",
   "metadata": {},
   "source": [
    "<div style=\"color:white;display:fill;\n",
    "            background-color:#e38e05;font-size:150%;\n",
    "            font-family:Nexa;letter-spacing:0.5px\">\n",
    "    <p style=\"padding: 4px;color:white;\"><b>6.3 3D Scatter Plot of rules </b></p>\n",
    "</div>\n",
    "\n",
    "> * **Association rules** are plotted in a `3D scatter plot`. \n",
    "> * `Rules` that are `closer to top right` are the rules that can be the `most meaningful`."
   ]
  },
  {
   "cell_type": "code",
   "execution_count": null,
   "metadata": {
    "execution": {
     "iopub.execute_input": "2022-10-07T16:31:21.811761Z",
     "iopub.status.busy": "2022-10-07T16:31:21.811392Z",
     "iopub.status.idle": "2022-10-07T16:31:22.138726Z",
     "shell.execute_reply": "2022-10-07T16:31:22.137964Z",
     "shell.execute_reply.started": "2022-10-07T16:31:21.811728Z"
    }
   },
   "outputs": [],
   "source": [
    "sns.set(style = \"whitegrid\")\n",
    "fig = plt.figure(figsize=(12, 12))\n",
    "ax = fig.add_subplot(projection = '3d')\n",
    "\n",
    "\n",
    "x = rules['support']\n",
    "y = rules['confidence']\n",
    "z = rules['lift']\n",
    "\n",
    "ax.set_xlabel(\"Support\")\n",
    "ax.set_ylabel(\"Confidence\")\n",
    "ax.set_zlabel(\"Lift\")\n",
    "\n",
    "ax.scatter(x, y, z)\n",
    "ax.set_title(\"3D Distribution of Association Rules\")\n",
    "\n",
    "plt.show()"
   ]
  },
  {
   "cell_type": "markdown",
   "metadata": {},
   "source": [
    "<div style=\"color:white;display:fill;\n",
    "            background-color:#e38e05;font-size:150%;\n",
    "            font-family:Nexa;letter-spacing:0.5px\">\n",
    "    <p style=\"padding: 4px;color:white;\"><b>6.4 Network Graph of relationships between the products </b></p>\n",
    "</div>"
   ]
  },
  {
   "cell_type": "code",
   "execution_count": null,
   "metadata": {
    "execution": {
     "iopub.execute_input": "2022-10-07T16:31:22.140023Z",
     "iopub.status.busy": "2022-10-07T16:31:22.139708Z",
     "iopub.status.idle": "2022-10-07T16:31:22.466604Z",
     "shell.execute_reply": "2022-10-07T16:31:22.465440Z",
     "shell.execute_reply.started": "2022-10-07T16:31:22.139994Z"
    }
   },
   "outputs": [],
   "source": [
    "def draw_network(rules, rules_to_show):\n",
    "    \n",
    "    # Directional Graph from Networkx\n",
    "    network = nx.DiGraph()\n",
    "    \n",
    "    # Loop through number of rules to show\n",
    "    for i in range(rules_to_show):\n",
    "        # Add a Rule Node\n",
    "        network.add_nodes_from([\"R\" + str(i)])\n",
    "        for antecedents in rules.iloc[i]['antecedents']:\n",
    "            # Add antecedent node and link to rule\n",
    "            network.add_nodes_from([antecedents])\n",
    "            network.add_edge(antecedents, \"R\" + str(i), weight = 2)\n",
    "            \n",
    "        for consequents in rules.iloc[i]['consequents']:\n",
    "            # Add consequent node and link to rule\n",
    "            network.add_nodes_from([consequents])\n",
    "            network.add_edge(\"R\" + str(i), consequents, weight = 2)\n",
    "    \n",
    "    color_map = []\n",
    "    \n",
    "    # For every node, if it's a rule, color as Black, otherwise Orange\n",
    "\n",
    "    for node in network:\n",
    "        if re.compile(\"^[R]\\d+$\").fullmatch(node)!=None:\n",
    "            color_map.append('black')\n",
    "        else:\n",
    "            color_map.append('orange')\n",
    "            \n",
    "    # Position nodes using spring layout\n",
    "    pos = nx.spring_layout(network, k=16, scale=1)\n",
    "    \n",
    "    # Draw the network graph\n",
    "    nx.draw(network, pos, node_color = color_map, font_size = 8)\n",
    "    \n",
    "    # Shift the test position upwards\n",
    "    for p in pos:\n",
    "        pos[p][1] += 0.12\n",
    "\n",
    "    nx.draw_networkx_labels(network, pos)\n",
    "    plt.title(\"Network Graph for Association Rules\")\n",
    "    plt.show()\n",
    "    \n",
    "draw_network(rules, 7)"
   ]
  },
  {
   "cell_type": "markdown",
   "metadata": {},
   "source": [
    "<div style=\"color:white;display:fill;\n",
    "            background-color:#e38e05;font-size:150%;\n",
    "            font-family:Nexa;letter-spacing:0.5px\">\n",
    "    <p style=\"padding: 4px;color:white;\"><b>6.5 Association Rules Interpretation </b></p>\n",
    "</div>"
   ]
  },
  {
   "cell_type": "markdown",
   "metadata": {},
   "source": [
    "* From the `association_rules results` above, **1.5V IND AA ALK BULK and 1.5V IND AAA ALK BULK** are the items that has the **highest association** each other since these two items has the `highest “lift” value`.\n",
    "*` The higher the lift value`, `the higher the associatio`n between the items willl. If the `lift value` is `more than 1`, it is enough for us to say that those `two items are associated each other`.\n",
    "* In thise case, the `highest value` is **6.699549** which is very high. It means these `2 items` are very `good` to be `sold together`.\n",
    "* The `support value` of **1.5V IND AA ALK BULK and 1.5V IND AAA ALK BULK** are **0.086062** which means there are **8.60%** out of total transaction that these 2 items were sold together. In number, it is **6321 * 0.086062 = 544 times**.\n",
    "* The confidence value is influenced by the antecedent and consequent.\n",
    "* If the `antecedent is higher than the consequent`, then the rule that will be applied is rule number 1 (not number 2). vice versa.\n",
    "* In this case, the antecedent value is higher than the consequent value. It means we will apply rule number 1 which is 1.5V IND AA ALK BULK and 1.5V IND AAA ALK BULK.\n",
    "* It means that a customer will tends to bought `1.5V IND AAA ALK BULK`, `AFTER` they `bought 1.5V IND AA ALK BULK`.\n",
    "* This could be a `very valuable information`, We could give a `discounts` on **1.5V IND AAA ALK BULK** if a customer buy **1.5V IND AA ALK BULK**."
   ]
  },
  {
   "cell_type": "markdown",
   "metadata": {},
   "source": [
    "# 7. Data-driven marketing strategy and decision making\n",
    "\n",
    "<center>\n",
    "    <img src = \"https://www.stratlytics.com/upload/1576230674.jpg\">\n",
    "</center>\n",
    "\n",
    "<div style=\"color:white;display:fill;\n",
    "            background-color:#e38e05;font-size:150%;\n",
    "            font-family:Nexa;letter-spacing:0.5px\">\n",
    "    <p style=\"padding: 4px;color:white;\"><b>7.1 Item Placements </b></p>\n",
    "</div>\n",
    "\n",
    "We could put **1.5V IND AAA ALK BULK and 1.5V IND AA ALK BULK** in a `closer place`, maybe in a `same shelf` or `any other closer place`.\n",
    "\n",
    "<div style=\"color:white;display:fill;\n",
    "            background-color:#e38e05;font-size:150%;\n",
    "            font-family:Nexa;letter-spacing:0.5px\">\n",
    "    <p style=\"padding: 4px;color:white;\"><b>7.2 Products Bundling </b></p>\n",
    "</div>\n",
    "\n",
    "> * We could put **1.5V IND AAA ALK BULK and 1.5V IND AA ALK BULK** as `a single bundle` of product `with a lower price` compare to each price combined. \n",
    "> * This way will attract `more sales` and generates `more income`.\n",
    "\n",
    "<div style=\"color:white;display:fill;\n",
    "            background-color:#e38e05;font-size:150%;\n",
    "            font-family:Nexa;letter-spacing:0.5px\">\n",
    "    <p style=\"padding: 4px;color:white;\"><b>7.3 Customer Recommendation and Discounts </b></p>\n",
    "</div>\n",
    "\n",
    "> * We could put **1.5V IND AAA ALK BULK** in the `cashier`, \n",
    "> * So that every time a customer bought **1.5V IND AA ALK BULK**, we could `offer and recommend` them to buy **1.5V IND AAA ALK BULK** with a `lower price`.\n",
    "\n",
    "<div style=\"color:white;display:fill;\n",
    "            background-color:#e38e05;font-size:150%;\n",
    "            font-family:Nexa;letter-spacing:0.5px\">\n",
    "    <p style=\"padding: 4px;color:white;\"><b>7.4 Association Rules with Most Strength </b></p>\n",
    "</div>"
   ]
  },
  {
   "cell_type": "code",
   "execution_count": null,
   "metadata": {
    "execution": {
     "iopub.execute_input": "2022-10-07T16:31:22.469217Z",
     "iopub.status.busy": "2022-10-07T16:31:22.468092Z",
     "iopub.status.idle": "2022-10-07T16:31:22.488950Z",
     "shell.execute_reply": "2022-10-07T16:31:22.487901Z",
     "shell.execute_reply.started": "2022-10-07T16:31:22.469159Z"
    }
   },
   "outputs": [],
   "source": [
    "rules[(rules['lift'] >= 6) &\n",
    "       (rules['confidence'] >= 0.5)]"
   ]
  },
  {
   "cell_type": "markdown",
   "metadata": {},
   "source": [
    "<div style=\"color:white;display:fill;\n",
    "            background-color:#e38e05;font-size:150%;\n",
    "            font-family:Nexa;letter-spacing:0.5px\">\n",
    "    <p style=\"padding: 4px;color:white;\"><b>7.5 Another Demonstration to increase sell of one item through another item </b></p>\n",
    "</div>\n",
    "\n",
    "<center><div style=\"color:white;\n",
    "            height: 30px;\n",
    "            width: 250px;\n",
    "            border-radius:20px 20px;\n",
    "            background-color:#5BB318;font-size:100%;\n",
    "            font-family:Nexa;letter-spacing:0.5px\">\n",
    "    <p style=\"padding:4px;color:white;text-align:center; border-radius:20px 20px;\"><b>7.5.1 Demonstration - 1 </b></p>\n",
    "</div>\n",
    "</center>"
   ]
  },
  {
   "cell_type": "code",
   "execution_count": null,
   "metadata": {
    "execution": {
     "iopub.execute_input": "2022-10-07T16:31:22.490524Z",
     "iopub.status.busy": "2022-10-07T16:31:22.490208Z",
     "iopub.status.idle": "2022-10-07T16:31:22.503136Z",
     "shell.execute_reply": "2022-10-07T16:31:22.502292Z",
     "shell.execute_reply.started": "2022-10-07T16:31:22.490495Z"
    }
   },
   "outputs": [],
   "source": [
    "basket_plus['1.5V IND AAA ALK BULK'].sum()"
   ]
  },
  {
   "cell_type": "code",
   "execution_count": null,
   "metadata": {
    "execution": {
     "iopub.execute_input": "2022-10-07T16:31:22.505824Z",
     "iopub.status.busy": "2022-10-07T16:31:22.504749Z",
     "iopub.status.idle": "2022-10-07T16:31:22.517168Z",
     "shell.execute_reply": "2022-10-07T16:31:22.516341Z",
     "shell.execute_reply.started": "2022-10-07T16:31:22.505790Z"
    }
   },
   "outputs": [],
   "source": [
    "basket_plus['1.5V IND AA ALK BULK'].sum()"
   ]
  },
  {
   "cell_type": "markdown",
   "metadata": {},
   "source": [
    "> * We sell **1022 quantity** of **1.5V IND AA ALK BULK** but **only 806 quantity** of **1.5V IND AAA ALK BULK** \n",
    "> * so maybe we can drive `more` **1.5V IND AAA ALK BULK** `sales` `through recommendations`."
   ]
  },
  {
   "cell_type": "markdown",
   "metadata": {},
   "source": [
    "<center><div style=\"color:white;\n",
    "            height: 30px;\n",
    "            width: 250px;\n",
    "            border-radius:20px 20px;\n",
    "            background-color:#5BB318;font-size:100%;\n",
    "            font-family:Nexa;letter-spacing:0.5px\">\n",
    "    <p style=\"padding:4px;color:white;text-align:center; border-radius:20px 20px;\"><b>7.5.2 Demonstration - 2 </b></p>\n",
    "</div>\n",
    "</center>"
   ]
  },
  {
   "cell_type": "code",
   "execution_count": null,
   "metadata": {
    "execution": {
     "iopub.execute_input": "2022-10-07T16:31:22.519466Z",
     "iopub.status.busy": "2022-10-07T16:31:22.518803Z",
     "iopub.status.idle": "2022-10-07T16:31:22.531062Z",
     "shell.execute_reply": "2022-10-07T16:31:22.530112Z",
     "shell.execute_reply.started": "2022-10-07T16:31:22.519424Z"
    }
   },
   "outputs": [],
   "source": [
    "basket_plus['1.5V ALKAL'].sum()"
   ]
  },
  {
   "cell_type": "code",
   "execution_count": null,
   "metadata": {
    "execution": {
     "iopub.execute_input": "2022-10-07T16:31:22.533113Z",
     "iopub.status.busy": "2022-10-07T16:31:22.532473Z",
     "iopub.status.idle": "2022-10-07T16:31:22.545828Z",
     "shell.execute_reply": "2022-10-07T16:31:22.544870Z",
     "shell.execute_reply.started": "2022-10-07T16:31:22.533071Z"
    }
   },
   "outputs": [],
   "source": [
    "basket_plus['1.5V ALKALINE AA CONTRACTOR 24PK'].sum()"
   ]
  },
  {
   "cell_type": "markdown",
   "metadata": {},
   "source": [
    "> * We sell **1163 quantity** of **1.5V ALKAL** but **only 715 quantity** of **1.5V ALKALINE AA CONTRACTOR 24PK** \n",
    "> * so maybe we can `drive more` **1.5V ALKALINE AA CONTRACTOR 24PK** `sales through recommendations`."
   ]
  },
  {
   "cell_type": "markdown",
   "metadata": {},
   "source": [
    "# 8. Strength\n",
    "* It is the most `simple` and `easy-to-understand` algorithm among **association rule** learning algorithms\n",
    "* It gives`constant results everytime`\n",
    "* The `resulting rules` are `intuitive` and `easy to communicate` to an `end-user`"
   ]
  },
  {
   "cell_type": "markdown",
   "metadata": {},
   "source": [
    "# 9. Limits\n",
    "* If the number of transactions is large and there is a restricted memory capacity,the algorithm's efficiency will be reduced\n",
    "* As it needs to scan the whole database, high processing power is required"
   ]
  },
  {
   "cell_type": "markdown",
   "metadata": {},
   "source": [
    "# 10. Conclusion\n",
    "\n",
    "<center>\n",
    "    <img src = \"https://datamathstat.files.wordpress.com/2018/02/untitled.png\">\n",
    "</center>\n",
    "\n",
    "Here, \n",
    "* Market Basket analysis is done using **Apriori Algorithm** and **Association Rules**\n",
    "* Recommendation is provided for **Upselling** and **Cross Selling** through giving ideas of    **Item Placements**, **Product Bundling** and **Applying Discounts** \n",
    "* Rules are visualized through **3D Scatter Plot** and **Network Graph**"
   ]
  },
  {
   "cell_type": "markdown",
   "metadata": {},
   "source": [
    "## **<center><span style=\"color:#FEF1FE;background-color:#023e8a;border-radius: 5px;padding: 5px\">Thanks for reading! Please feel free to provide suggestions or feedbacks :)</span></center>**"
   ]
  },
  {
   "cell_type": "code",
   "execution_count": null,
   "metadata": {},
   "outputs": [],
   "source": []
  }
 ],
 "metadata": {
  "kernelspec": {
   "display_name": "Python 3 (ipykernel)",
   "language": "python",
   "name": "python3"
  },
  "language_info": {
   "codemirror_mode": {
    "name": "ipython",
    "version": 3
   },
   "file_extension": ".py",
   "mimetype": "text/x-python",
   "name": "python",
   "nbconvert_exporter": "python",
   "pygments_lexer": "ipython3",
   "version": "3.11.5"
  }
 },
 "nbformat": 4,
 "nbformat_minor": 4
}
